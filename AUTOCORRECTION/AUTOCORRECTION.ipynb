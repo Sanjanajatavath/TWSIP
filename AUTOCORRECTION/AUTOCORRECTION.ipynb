{
  "nbformat": 4,
  "nbformat_minor": 0,
  "metadata": {
    "colab": {
      "provenance": [],
      "authorship_tag": "ABX9TyOF+eH4goTdNarAHloBFe85"
    },
    "kernelspec": {
      "name": "python3",
      "display_name": "Python 3"
    },
    "language_info": {
      "name": "python"
    }
  },
  "cells": [
    {
      "cell_type": "code",
      "source": [
        "import re\n",
        "from collections import Counter"
      ],
      "metadata": {
        "id": "mVUzkBmrmBK_"
      },
      "execution_count": null,
      "outputs": []
    },
    {
      "cell_type": "code",
      "source": [
        "# Extract words from text\n",
        "def words(text):\n",
        "    return re.findall(r'\\w+', text.lower())"
      ],
      "metadata": {
        "id": "zCgxEhDnrKqH"
      },
      "execution_count": null,
      "outputs": []
    },
    {
      "cell_type": "code",
      "source": [
        "# Load text from file\n",
        "def load_text(file_path):\n",
        "    with open(file_path, 'r') as file:\n",
        "        return file.read()"
      ],
      "metadata": {
        "id": "io4NZp46rNvg"
      },
      "execution_count": null,
      "outputs": []
    },
    {
      "cell_type": "code",
      "source": [
        "# Create a counter for words in text\n",
        "def create_word_counter(text):\n",
        "    return Counter(words(text))"
      ],
      "metadata": {
        "id": "IC-NBmiPrSJu"
      },
      "execution_count": null,
      "outputs": []
    },
    {
      "cell_type": "code",
      "source": [
        "# Load known words from multiple texts\n",
        "def load_known_words(*texts):\n",
        "    known_words = set()\n",
        "    for text in texts:\n",
        "        known_words.update(words(text))\n",
        "    return known_words"
      ],
      "metadata": {
        "id": "nFxkQPturU1S"
      },
      "execution_count": null,
      "outputs": []
    },
    {
      "cell_type": "code",
      "source": [
        "# Correct spelling of a word using edit distance\n",
        "def correct_spelling(word, known_words):\n",
        "    if word in known_words:\n",
        "        return word\n",
        "    else:\n",
        "        return min(known_words, key=lambda w: edit_distance(w, word))"
      ],
      "metadata": {
        "id": "04ICTxjFrX-g"
      },
      "execution_count": null,
      "outputs": []
    },
    {
      "cell_type": "code",
      "source": [
        "# Calculate edit distance between two words\n",
        "def edit_distance(word1, word2):\n",
        "    if len(word1) > len(word2):\n",
        "        word1, word2 = word2, word1\n",
        "    distances = range(len(word1) + 1)\n",
        "    for i, c2 in enumerate(word2):\n",
        "        distances_ = [i + 1]\n",
        "        for j, c1 in enumerate(word1):\n",
        "            if c1 == c2:\n",
        "                distances_.append(distances[j])\n",
        "            else:\n",
        "                distances_.append(1 + min((distances[j], distances[j + 1], distances_[-1])))\n",
        "        distances = distances_\n",
        "    return distances[-1]"
      ],
      "metadata": {
        "id": "-TnWu7ixrbhH"
      },
      "execution_count": null,
      "outputs": []
    },
    {
      "cell_type": "code",
      "source": [
        "# Correct common grammar mistakes\n",
        "def correct_grammar(word):\n",
        "    grammar_errors = {\n",
        "        \"could of\": \"could've\",\n",
        "        \"should of\": \"should've\",\n",
        "        \"would of\": \"would've\",\n",
        "        \"your\": \"you're\",\n",
        "        \"theyre\": \"they're\",\n",
        "        \"its\": \"it's\",\n",
        "        \"a lot\": \"a lot\",\n",
        "        \"alot\": \"a lot\",\n",
        "    }\n",
        "    return grammar_errors.get(word, word)"
      ],
      "metadata": {
        "id": "90xuSwN4rflz"
      },
      "execution_count": null,
      "outputs": []
    },
    {
      "cell_type": "code",
      "source": [
        "# Correct common punctuation errors\n",
        "def correct_punctuation(text):\n",
        "    punctuation_errors = {\n",
        "        \"!!\": \"!\",\n",
        "        \"?!!\": \"?!\",\n",
        "        \"...\": \"..\",\n",
        "        \". \": \".\",\n",
        "        \" , \": \", \",\n",
        "    }\n",
        "    for error, correction in punctuation_errors.items():\n",
        "        text = text.replace(error, correction)\n",
        "    return text.strip()"
      ],
      "metadata": {
        "id": "81JkWvtIrik-"
      },
      "execution_count": null,
      "outputs": []
    },
    {
      "cell_type": "code",
      "source": [
        "# Main function to orchestrate text correction\n",
        "def main():\n",
        "    # Load text files containing known words\n",
        "    text0 = load_text('/content/spelldataset7.txt')\n",
        "    text1 = load_text('/content/american-words.10')\n",
        "    text2 = load_text('/content/american-words.35')\n",
        "    text3 = load_text('/content/american-words.20')\n",
        "\n",
        "    # Load known words from texts\n",
        "    known_words = load_known_words(text0, text1, text2, text3)\n",
        "\n",
        "    # Get input text from user\n",
        "    input_text = input(\"Enter your input text: \")\n",
        "\n",
        "    # Correct spelling and grammar in the input text\n",
        "    corrected_words = []\n",
        "    for word in input_text.split():\n",
        "        corrected_word = correct_spelling(word, known_words)\n",
        "        corrected_word = correct_grammar(corrected_word)\n",
        "        corrected_words.append(corrected_word)\n",
        "\n",
        "    # Correct punctuation errors\n",
        "    corrected_text = correct_punctuation(\" \".join(corrected_words))\n",
        "\n",
        "    # Print corrected text\n",
        "    print(\"Corrected Text:\")\n",
        "    print(corrected_text)\n",
        "\n",
        "if __name__ == \"__main__\":\n",
        "    main()"
      ],
      "metadata": {
        "id": "CIPA2v0RrlZc",
        "colab": {
          "base_uri": "https://localhost:8080/"
        },
        "outputId": "e1b593c8-5e0b-4277-868f-887af335c20e"
      },
      "execution_count": null,
      "outputs": [
        {
          "output_type": "stream",
          "name": "stdout",
          "text": [
            "Enter your input text: \"\"\"this is checkng of autocorrecton modl and it may have misspeling in it\"\"\"\n",
            "Corrected Text:\n",
            "this is checking of autocorrection model and it may have misspelling in it\n"
          ]
        }
      ]
    },
    {
      "cell_type": "code",
      "source": [],
      "metadata": {
        "id": "sw8aBId6ro8P"
      },
      "execution_count": null,
      "outputs": []
    }
  ]
}