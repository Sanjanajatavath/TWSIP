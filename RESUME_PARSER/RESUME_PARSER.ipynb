{
  "metadata": {
    "kernelspec": {
      "language": "python",
      "display_name": "Python 3",
      "name": "python3"
    },
    "language_info": {
      "name": "python",
      "version": "3.7.6",
      "mimetype": "text/x-python",
      "codemirror_mode": {
        "name": "ipython",
        "version": 3
      },
      "pygments_lexer": "ipython3",
      "nbconvert_exporter": "python",
      "file_extension": ".py"
    },
    "kaggle": {
      "accelerator": "none",
      "dataSources": [
        {
          "sourceId": 1686237,
          "sourceType": "datasetVersion",
          "datasetId": 999072
        }
      ],
      "dockerImageVersionId": 30035,
      "isInternetEnabled": false,
      "language": "python",
      "sourceType": "notebook",
      "isGpuEnabled": false
    },
    "colab": {
      "provenance": []
    }
  },
  "nbformat_minor": 0,
  "nbformat": 4,
  "cells": [
    {
      "cell_type": "code",
      "source": [
        "import numpy as np # linear algebra\n",
        "import pandas as pd # data processing, CSV file I/O (e.g. pd.read_csv)\n",
        "import spacy\n",
        "import pickle\n",
        "import random\n",
        "\n",
        "import os\n",
        "for dirname, _, filenames in os.walk('/kaggle/input'):\n",
        "    for filename in filenames:\n",
        "        print(os.path.join(dirname, filename))"
      ],
      "metadata": {
        "_uuid": "8f2839f25d086af736a60e9eeb907d3b93b6e0e5",
        "_cell_guid": "b1076dfc-b9ad-4769-8c92-a6c4dae69d19",
        "execution": {
          "iopub.status.busy": "2024-04-10T13:06:39.008275Z",
          "iopub.execute_input": "2024-04-10T13:06:39.009003Z",
          "iopub.status.idle": "2024-04-10T13:06:39.788226Z",
          "shell.execute_reply.started": "2024-04-10T13:06:39.008954Z",
          "shell.execute_reply": "2024-04-10T13:06:39.787297Z"
        },
        "trusted": true,
        "id": "gTomq6jRIqSH",
        "outputId": "e8cc8caa-b66a-46cb-986c-e8b7dfc16836"
      },
      "execution_count": null,
      "outputs": [
        {
          "name": "stdout",
          "text": "/kaggle/input/resume-data-with-annotations/resume v6.pdf\n/kaggle/input/resume-data-with-annotations/Alice Clark CV.docx\n/kaggle/input/resume-data-with-annotations/Alice Clark CV.txt\n/kaggle/input/resume-data-with-annotations/AshlyLauResume.pdf\n/kaggle/input/resume-data-with-annotations/Smith Resume.pdf\n/kaggle/input/resume-data-with-annotations/train_data.txt\n/kaggle/input/resume-data-with-annotations/Smith Resume.docx\n/kaggle/input/resume-data-with-annotations/Jinesh_Dhruv_poster.pdf\n/kaggle/input/resume-data-with-annotations/Alice Clark CV.pdf\n/kaggle/input/resume-data-with-annotations/train_data.pkl\n/kaggle/input/resume-data-with-annotations/Sample_Resume.pdf\n/kaggle/input/resume-data-with-annotations/Xinni_Chng.pdf\n/kaggle/input/resume-data-with-annotations/sample_input.pdf\n",
          "output_type": "stream"
        }
      ]
    },
    {
      "cell_type": "code",
      "source": [
        "train_data = pickle.load(open('/kaggle/input/resume-data-with-annotations/train_data.pkl','rb'))\n",
        "train_data[0]"
      ],
      "metadata": {
        "_uuid": "d629ff2d2480ee46fbb7e2d37f6b5fab8052498a",
        "_cell_guid": "79c7e3d0-c299-4dcb-8224-4455121ee9b0",
        "execution": {
          "iopub.status.busy": "2024-04-10T13:06:39.790387Z",
          "iopub.execute_input": "2024-04-10T13:06:39.790703Z",
          "iopub.status.idle": "2024-04-10T13:06:39.819917Z",
          "shell.execute_reply.started": "2024-04-10T13:06:39.790674Z",
          "shell.execute_reply": "2024-04-10T13:06:39.818808Z"
        },
        "trusted": true,
        "id": "GEF7MqptIqSI",
        "outputId": "41707142-edb6-44c7-e6c2-16978ecb1613"
      },
      "execution_count": null,
      "outputs": [
        {
          "execution_count": 2,
          "output_type": "execute_result",
          "data": {
            "text/plain": "('Govardhana K Senior Software Engineer  Bengaluru, Karnataka, Karnataka - Email me on Indeed: indeed.com/r/Govardhana-K/ b2de315d95905b68  Total IT experience 5 Years 6 Months Cloud Lending Solutions INC 4 Month • Salesforce Developer Oracle 5 Years 2 Month • Core Java Developer Languages Core Java, Go Lang Oracle PL-SQL programming, Sales Force Developer with APEX.  Designations & Promotions  Willing to relocate: Anywhere  WORK EXPERIENCE  Senior Software Engineer  Cloud Lending Solutions -  Bangalore, Karnataka -  January 2018 to Present  Present  Senior Consultant  Oracle -  Bangalore, Karnataka -  November 2016 to December 2017  Staff Consultant  Oracle -  Bangalore, Karnataka -  January 2014 to October 2016  Associate Consultant  Oracle -  Bangalore, Karnataka -  November 2012 to December 2013  EDUCATION  B.E in Computer Science Engineering  Adithya Institute of Technology -  Tamil Nadu  September 2008 to June 2012  https://www.indeed.com/r/Govardhana-K/b2de315d95905b68?isid=rex-download&ikw=download-top&co=IN https://www.indeed.com/r/Govardhana-K/b2de315d95905b68?isid=rex-download&ikw=download-top&co=IN   SKILLS  APEX. (Less than 1 year), Data Structures (3 years), FLEXCUBE (5 years), Oracle (5 years), Algorithms (3 years)  LINKS  https://www.linkedin.com/in/govardhana-k-61024944/  ADDITIONAL INFORMATION  Technical Proficiency:  Languages: Core Java, Go Lang, Data Structures & Algorithms, Oracle PL-SQL programming, Sales Force with APEX. Tools: RADTool, Jdeveloper, NetBeans, Eclipse, SQL developer, PL/SQL Developer, WinSCP, Putty Web Technologies: JavaScript, XML, HTML, Webservice  Operating Systems: Linux, Windows Version control system SVN & Git-Hub Databases: Oracle Middleware: Web logic, OC4J Product FLEXCUBE: Oracle FLEXCUBE Versions 10.x, 11.x and 12.x  https://www.linkedin.com/in/govardhana-k-61024944/',\n {'entities': [(1749, 1755, 'Companies worked at'),\n   (1696, 1702, 'Companies worked at'),\n   (1417, 1423, 'Companies worked at'),\n   (1356, 1793, 'Skills'),\n   (1209, 1215, 'Companies worked at'),\n   (1136, 1248, 'Skills'),\n   (928, 932, 'Graduation Year'),\n   (858, 889, 'College Name'),\n   (821, 856, 'Degree'),\n   (787, 791, 'Graduation Year'),\n   (744, 750, 'Companies worked at'),\n   (722, 742, 'Designation'),\n   (658, 664, 'Companies worked at'),\n   (640, 656, 'Designation'),\n   (574, 580, 'Companies worked at'),\n   (555, 573, 'Designation'),\n   (470, 493, 'Companies worked at'),\n   (444, 469, 'Designation'),\n   (308, 314, 'Companies worked at'),\n   (234, 240, 'Companies worked at'),\n   (175, 198, 'Companies worked at'),\n   (93, 137, 'Email Address'),\n   (39, 48, 'Location'),\n   (13, 38, 'Designation'),\n   (0, 12, 'Name')]})"
          },
          "metadata": {}
        }
      ]
    },
    {
      "cell_type": "code",
      "source": [
        "# Load Blank Model\n",
        "nlp = spacy.blank('en')\n",
        "\n",
        "def train_model(train_data):\n",
        "    # Remove all pipelines and add NER pipeline from the model\n",
        "    if 'ner'not in nlp.pipe_names:\n",
        "        ner = nlp.create_pipe('ner')\n",
        "        # adding NER pipeline to nlp model\n",
        "        nlp.add_pipe(ner,last=True)\n",
        "\n",
        "    #Add labels in the NLP pipeline\n",
        "    for _, annotation in train_data:\n",
        "        for ent in annotation.get('entities'):\n",
        "            ner.add_label(ent[2])\n",
        "\n",
        "    #Remove other pipelines if they are there\n",
        "    other_pipes = [pipe for pipe in nlp.pipe_names if pipe != 'ner']\n",
        "    with nlp.disable_pipes(*other_pipes):  # only train NER\n",
        "        optimizer = nlp.begin_training()\n",
        "        for itn in range(10): # train for 10 iterations\n",
        "            print(\"Starting iteration \" + str(itn))\n",
        "            random.shuffle(train_data)\n",
        "            losses = {}\n",
        "            index = 0\n",
        "            for text, annotations in train_data:\n",
        "                try:\n",
        "                    nlp.update(\n",
        "                        [text],  # batch of texts\n",
        "                        [annotations],  # batch of annotations\n",
        "                        drop=0.2,  # dropout - make it harder to memorise data\n",
        "                        sgd=optimizer,  # callable to update weights\n",
        "                        losses=losses)\n",
        "                except Exception as e:\n",
        "                    pass\n",
        "\n",
        "            print(losses)\n",
        "# Start Training model\n",
        "train_model(train_data)"
      ],
      "metadata": {
        "execution": {
          "iopub.status.busy": "2024-04-10T13:06:39.821583Z",
          "iopub.execute_input": "2024-04-10T13:06:39.822216Z",
          "iopub.status.idle": "2024-04-10T13:09:59.20251Z",
          "shell.execute_reply.started": "2024-04-10T13:06:39.822171Z",
          "shell.execute_reply": "2024-04-10T13:09:59.201373Z"
        },
        "trusted": true,
        "id": "Qjj6dJQgIqSJ",
        "outputId": "9a076335-f07b-4b6c-b310-547049ff6b53",
        "colab": {
          "base_uri": "https://localhost:8080/"
        }
      },
      "execution_count": 5,
      "outputs": [
        {
          "output_type": "stream",
          "name": "stdout",
          "text": [
            "Starting iteration 0\n",
            "{'ner': 11880.518611802248}\n",
            "Starting iteration 1\n",
            "{'ner': 9549.533454774772}\n",
            "Starting iteration 2\n",
            "{'ner': 6647.957126085104}\n",
            "Starting iteration 3\n",
            "{'ner': 7000.408218887242}\n",
            "Starting iteration 4\n",
            "{'ner': 5665.557018652162}\n",
            "Starting iteration 5\n",
            "{'ner': 6860.215155211636}\n",
            "Starting iteration 6\n",
            "{'ner': 5207.470807416294}\n",
            "Starting iteration 7\n",
            "{'ner': 4684.51306761087}\n",
            "Starting iteration 8\n",
            "{'ner': 5968.817534300315}\n",
            "Starting iteration 9\n",
            "{'ner': 4254.501001652606}\n"
          ]
        }
      ]
    },
    {
      "cell_type": "code",
      "source": [
        "# Saving the model\n",
        "nlp.to_disk('nlp_ner_model')"
      ],
      "metadata": {
        "execution": {
          "iopub.status.busy": "2024-04-10T13:09:59.203998Z",
          "iopub.execute_input": "2024-04-10T13:09:59.204333Z",
          "iopub.status.idle": "2024-04-10T13:09:59.239053Z",
          "shell.execute_reply.started": "2024-04-10T13:09:59.204305Z",
          "shell.execute_reply": "2024-04-10T13:09:59.237956Z"
        },
        "trusted": true,
        "id": "lbsFsaK5IqSJ"
      },
      "execution_count": null,
      "outputs": []
    },
    {
      "cell_type": "code",
      "source": [
        "#Loading Model\n",
        "nlp_model = spacy.load('nlp_ner_model')"
      ],
      "metadata": {
        "execution": {
          "iopub.status.busy": "2024-04-10T13:09:59.242257Z",
          "iopub.execute_input": "2024-04-10T13:09:59.242594Z",
          "iopub.status.idle": "2024-04-10T13:10:00.231344Z",
          "shell.execute_reply.started": "2024-04-10T13:09:59.242562Z",
          "shell.execute_reply": "2024-04-10T13:10:00.230124Z"
        },
        "trusted": true,
        "id": "ZFHMcveDIqSJ"
      },
      "execution_count": null,
      "outputs": []
    },
    {
      "cell_type": "code",
      "source": [
        "# trying and seeing the prediction of the model\n",
        "doc = nlp_model(train_data[0][0])\n",
        "for ent in doc.ents:\n",
        "    print(f\"{ent.label_.upper():{30}}-{ent.text}\")"
      ],
      "metadata": {
        "execution": {
          "iopub.status.busy": "2024-04-10T13:10:00.233118Z",
          "iopub.execute_input": "2024-04-10T13:10:00.233466Z",
          "iopub.status.idle": "2024-04-10T13:10:00.259525Z",
          "shell.execute_reply.started": "2024-04-10T13:10:00.233433Z",
          "shell.execute_reply": "2024-04-10T13:10:00.258711Z"
        },
        "trusted": true,
        "id": "YSaw3JoRIqSK",
        "outputId": "d77335f3-1424-4d30-c8a5-1d47b5c0e82a"
      },
      "execution_count": null,
      "outputs": [
        {
          "name": "stdout",
          "text": "NAME                          -amarjyot sodhi\nDESIGNATION                   -Voice and Accent Trainer\nCOMPANIES WORKED AT           -3 years\nLOCATION                      -Faridabad\nEMAIL ADDRESS                 -indeed.com/r/amarjyot-sodhi/ba2e5a3cbaeccdac\nDESIGNATION                   -Sales Associate\nCOMPANIES WORKED AT           -Shuttl\nLOCATION                      -Faridabad\nLOCATION                      -Chennai\nDEGREE                        -masters in journalism and communication in mass comm client servicing\nCOLLEGE NAME                  -amity -  Noida\n",
          "output_type": "stream"
        }
      ]
    },
    {
      "cell_type": "code",
      "source": [
        "!pip install PyMuPDF\n"
      ],
      "metadata": {
        "trusted": true,
        "id": "0FIi83GkIqSK",
        "colab": {
          "base_uri": "https://localhost:8080/"
        },
        "outputId": "ad11575a-2a24-45b8-bbfa-22d157e424c6"
      },
      "execution_count": 1,
      "outputs": [
        {
          "output_type": "stream",
          "name": "stdout",
          "text": [
            "Collecting PyMuPDF\n",
            "  Downloading PyMuPDF-1.24.1-cp310-none-manylinux2014_x86_64.whl (3.9 MB)\n",
            "\u001b[2K     \u001b[90m━━━━━━━━━━━━━━━━━━━━━━━━━━━━━━━━━━━━━━━━\u001b[0m \u001b[32m3.9/3.9 MB\u001b[0m \u001b[31m14.7 MB/s\u001b[0m eta \u001b[36m0:00:00\u001b[0m\n",
            "\u001b[?25hCollecting PyMuPDFb==1.24.1 (from PyMuPDF)\n",
            "  Downloading PyMuPDFb-1.24.1-py3-none-manylinux2014_x86_64.manylinux_2_17_x86_64.whl (30.8 MB)\n",
            "\u001b[2K     \u001b[90m━━━━━━━━━━━━━━━━━━━━━━━━━━━━━━━━━━━━━━━━\u001b[0m \u001b[32m30.8/30.8 MB\u001b[0m \u001b[31m29.8 MB/s\u001b[0m eta \u001b[36m0:00:00\u001b[0m\n",
            "\u001b[?25hInstalling collected packages: PyMuPDFb, PyMuPDF\n",
            "Successfully installed PyMuPDF-1.24.1 PyMuPDFb-1.24.1\n"
          ]
        }
      ]
    },
    {
      "cell_type": "code",
      "source": [
        "import sys, fitz\n",
        "fname = '/kaggle/input/resume-data-with-annotations/Alice Clark CV.pdf'\n",
        "doc = fitz.open(fname)\n",
        "text = \"\"\n",
        "for page in doc:\n",
        "    text = text + str(page.getText())\n",
        "tx = \" \".join(text.split('\\n'))\n",
        "print(tx)"
      ],
      "metadata": {
        "colab": {
          "base_uri": "https://localhost:8080/"
        },
        "id": "Aad_CzpTWXnB",
        "outputId": "327539e2-f9ea-4c27-9b14-015a3ae2b6bf"
      },
      "execution_count": 3,
      "outputs": [
        {
          "output_type": "stream",
          "name": "stdout",
          "text": [
            "Alice Clark  AI / Machine Learning    Delhi, India Email me on Indeed  •  20+ years of experience in data handling, design, and development  •  Data Warehouse: Data analysis, star/snow flake scema data modelling and design specific to  data warehousing and business intelligence  •  Database: Experience in database designing, scalability, back-up and recovery, writing and  optimizing SQL code and Stored Procedures, creating functions, views, triggers and indexes.  Cloud platform: Worked on Microsoft Azure cloud services like Document DB, SQL Azure,  Stream Analytics, Event hub, Power BI, Web Job, Web App, Power BI, Azure data lake  analytics(U-SQL)  Willing to relocate anywhere    WORK EXPERIENCE  Software Engineer  Microsoft – Bangalore, Karnataka  January 2000 to Present  1. Microsoft Rewards Live dashboards:  Description: - Microsoft rewards is loyalty program that rewards Users for browsing and shopping  online. Microsoft Rewards members can earn points when searching with Bing, browsing with  Microsoft Edge and making purchases at the Xbox Store, the Windows Store and the Microsoft  Store. Plus, user can pick up bonus points for taking daily quizzes and tours on the Microsoft  rewards website. Rewards live dashboards gives a live picture of usage world-wide and by  markets like US, Canada, Australia, new user registration count, top/bottom performing rewards  offers, orders stats and weekly trends of user activities, orders and new user registrations. the  PBI tiles gets refreshed in different frequencies starting from 5 seconds to 30 minutes.  Technology/Tools used    EDUCATION  Indian Institute of Technology – Mumbai  2001    SKILLS  Machine Learning, Natural Language Processing, and Big Data Handling    ADDITIONAL INFORMATION  Professional Skills  • Excellent analytical, problem solving, communication, knowledge transfer and interpersonal  skills with ability to interact with individuals at all the levels  • Quick learner and maintains cordial relationship with project manager and team members and  good performer both in team and independent job environments  • Positive attitude towards superiors &amp; peers  • Supervised junior developers throughout project lifecycle and provided technical assistance\n"
          ]
        }
      ]
    },
    {
      "cell_type": "code",
      "source": [
        "# Applying the model\n",
        "doc = nlp_model(tx)\n",
        "for ent in doc.ents:\n",
        "    print(f'{ent.label_.upper():{30}}- {ent.text}')"
      ],
      "metadata": {
        "colab": {
          "base_uri": "https://localhost:8080/"
        },
        "id": "UR2D84yuXN-p",
        "outputId": "fca32532-6444-443a-d948-33d8742c9e8c"
      },
      "execution_count": 4,
      "outputs": [
        {
          "output_type": "stream",
          "name": "stdout",
          "text": [
            "NAME                           - Alice Clark\n",
            "DESIGNATION                    - Software Engineer\n",
            "LOCATION                       - Bangalore\n",
            "COMPANIES WORKED AT            - Microsoft\n",
            "GRADUATION YEAR                - 2000\n",
            "COLLEGE NAME                   - Indian Institute of Technology\n",
            "SKILLS                         - Machine Learning, Natural Language Processing, and Big Data Handling\n"
          ]
        }
      ]
    },
    {
      "cell_type": "code",
      "source": [
        "# Applying the model, it need not be a pdf but also text!!\n",
        "tx = \"John Smith is a Software Engineer with expertise in Python and Java. He can be reached at john.smith@example.com.\"\n",
        "doc = nlp_model(tx)\n",
        "for ent in doc.ents:\n",
        "    print(f'{ent.label_.upper():{30}}- {ent.text}')\n"
      ],
      "metadata": {
        "execution": {
          "iopub.status.busy": "2024-04-10T13:10:00.261028Z",
          "iopub.execute_input": "2024-04-10T13:10:00.261339Z",
          "iopub.status.idle": "2024-04-10T13:10:00.327556Z",
          "shell.execute_reply.started": "2024-04-10T13:10:00.26131Z",
          "shell.execute_reply": "2024-04-10T13:10:00.326235Z"
        },
        "trusted": true,
        "colab": {
          "base_uri": "https://localhost:8080/"
        },
        "id": "FJy3xt_dIqSK",
        "outputId": "86259ef6-0b88-49a7-c108-e471e454c5dd"
      },
      "execution_count": null,
      "outputs": [
        {
          "output_type": "stream",
          "name": "stdout",
          "text": [
            "\n",
            "NAME                          - John Doe\n",
            "JOB_TITLE                     - Senior Data Scientist\n",
            "COMPANY                       - XYZ Analytics\n",
            "LOCATION                      - New York City\n",
            "DEGREE                        - Master's degree in Computer Science\n",
            "COLLEGE_NAME                  - ABC University\n",
            "EMAIL                         - john.doe@example.com\n",
            "PHONE                         - 123-456-7890\n",
            "\n"
          ]
        }
      ]
    },
    {
      "cell_type": "code",
      "source": [],
      "metadata": {
        "trusted": true,
        "id": "EW6x7nkoIqSL"
      },
      "execution_count": null,
      "outputs": []
    }
  ]
}